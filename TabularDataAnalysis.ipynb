{
 "cells": [
  {
   "cell_type": "code",
   "execution_count": 1,
   "id": "a195e0f1",
   "metadata": {},
   "outputs": [],
   "source": [
    "import pandas as pd"
   ]
  },
  {
   "cell_type": "code",
   "execution_count": 2,
   "id": "d554a4cf",
   "metadata": {},
   "outputs": [],
   "source": [
    "data=pd.read_csv(\"Sunspots.csv\")"
   ]
  },
  {
   "cell_type": "markdown",
   "id": "9eda0c89",
   "metadata": {},
   "source": [
    "## QUESTION 1"
   ]
  },
  {
   "cell_type": "code",
   "execution_count": 3,
   "id": "807c2f97",
   "metadata": {},
   "outputs": [
    {
     "data": {
      "text/html": [
       "<div>\n",
       "<style scoped>\n",
       "    .dataframe tbody tr th:only-of-type {\n",
       "        vertical-align: middle;\n",
       "    }\n",
       "\n",
       "    .dataframe tbody tr th {\n",
       "        vertical-align: top;\n",
       "    }\n",
       "\n",
       "    .dataframe thead th {\n",
       "        text-align: right;\n",
       "    }\n",
       "</style>\n",
       "<table border=\"1\" class=\"dataframe\">\n",
       "  <thead>\n",
       "    <tr style=\"text-align: right;\">\n",
       "      <th></th>\n",
       "      <th>Unnamed: 0</th>\n",
       "      <th>Date</th>\n",
       "      <th>Monthly_Mean_Total_Sunspot_Number</th>\n",
       "    </tr>\n",
       "  </thead>\n",
       "  <tbody>\n",
       "    <tr>\n",
       "      <th>0</th>\n",
       "      <td>0</td>\n",
       "      <td>1749-01-31</td>\n",
       "      <td>96.7</td>\n",
       "    </tr>\n",
       "    <tr>\n",
       "      <th>1</th>\n",
       "      <td>1</td>\n",
       "      <td>1749-02-28</td>\n",
       "      <td>104.3</td>\n",
       "    </tr>\n",
       "    <tr>\n",
       "      <th>2</th>\n",
       "      <td>2</td>\n",
       "      <td>1749-03-31</td>\n",
       "      <td>116.7</td>\n",
       "    </tr>\n",
       "    <tr>\n",
       "      <th>3</th>\n",
       "      <td>3</td>\n",
       "      <td>1749-04-30</td>\n",
       "      <td>92.8</td>\n",
       "    </tr>\n",
       "    <tr>\n",
       "      <th>4</th>\n",
       "      <td>4</td>\n",
       "      <td>1749-05-31</td>\n",
       "      <td>141.7</td>\n",
       "    </tr>\n",
       "  </tbody>\n",
       "</table>\n",
       "</div>"
      ],
      "text/plain": [
       "   Unnamed: 0        Date  Monthly_Mean_Total_Sunspot_Number\n",
       "0           0  1749-01-31                               96.7\n",
       "1           1  1749-02-28                              104.3\n",
       "2           2  1749-03-31                              116.7\n",
       "3           3  1749-04-30                               92.8\n",
       "4           4  1749-05-31                              141.7"
      ]
     },
     "execution_count": 3,
     "metadata": {},
     "output_type": "execute_result"
    }
   ],
   "source": [
    "data.head()"
   ]
  },
  {
   "cell_type": "code",
   "execution_count": 4,
   "id": "4b4bbdc0",
   "metadata": {},
   "outputs": [],
   "source": [
    "MMTSN=data['Monthly_Mean_Total_Sunspot_Number']"
   ]
  },
  {
   "cell_type": "code",
   "execution_count": 5,
   "id": "68697f8d",
   "metadata": {},
   "outputs": [],
   "source": [
    "import seaborn as sns\n",
    "import matplotlib.pyplot as plt"
   ]
  },
  {
   "cell_type": "code",
   "execution_count": 6,
   "id": "4965db27",
   "metadata": {},
   "outputs": [
    {
     "data": {
      "image/png": "[encoded data removed]",
      "text/plain": [
       "<Figure size 640x480 with 1 Axes>"
      ]
     },
     "metadata": {},
     "output_type": "display_data"
    }
   ],
   "source": [
    "sns.set_theme(style=\"whitegrid\")\n",
    "ax=sns.boxplot(x=MMTSN)\n",
    "plt.show()"
   ]
  },
  {
   "cell_type": "markdown",
   "id": "0294f467",
   "metadata": {},
   "source": [
    "### The minimum value from the boxplot is 0 and the maximum is around 270.  \n",
    "### The lower quartile is at 25 and the upper quartile is 120.\n",
    "### Median is around 65.\n"
   ]
  },
  {
   "cell_type": "code",
   "execution_count": 7,
   "id": "f772b4ca",
   "metadata": {},
   "outputs": [
    {
     "data": {
      "text/html": [
       "<div>\n",
       "<style scoped>\n",
       "    .dataframe tbody tr th:only-of-type {\n",
       "        vertical-align: middle;\n",
       "    }\n",
       "\n",
       "    .dataframe tbody tr th {\n",
       "        vertical-align: top;\n",
       "    }\n",
       "\n",
       "    .dataframe thead th {\n",
       "        text-align: right;\n",
       "    }\n",
       "</style>\n",
       "<table border=\"1\" class=\"dataframe\">\n",
       "  <thead>\n",
       "    <tr style=\"text-align: right;\">\n",
       "      <th></th>\n",
       "      <th>Monthly_Mean_Total_Sunspot_Number</th>\n",
       "    </tr>\n",
       "  </thead>\n",
       "  <tbody>\n",
       "    <tr>\n",
       "      <th>count</th>\n",
       "      <td>3265.000000</td>\n",
       "    </tr>\n",
       "    <tr>\n",
       "      <th>mean</th>\n",
       "      <td>81.778775</td>\n",
       "    </tr>\n",
       "    <tr>\n",
       "      <th>std</th>\n",
       "      <td>67.889277</td>\n",
       "    </tr>\n",
       "    <tr>\n",
       "      <th>min</th>\n",
       "      <td>0.000000</td>\n",
       "    </tr>\n",
       "    <tr>\n",
       "      <th>25%</th>\n",
       "      <td>23.900000</td>\n",
       "    </tr>\n",
       "    <tr>\n",
       "      <th>50%</th>\n",
       "      <td>67.200000</td>\n",
       "    </tr>\n",
       "    <tr>\n",
       "      <th>75%</th>\n",
       "      <td>122.500000</td>\n",
       "    </tr>\n",
       "    <tr>\n",
       "      <th>max</th>\n",
       "      <td>398.200000</td>\n",
       "    </tr>\n",
       "  </tbody>\n",
       "</table>\n",
       "</div>"
      ],
      "text/plain": [
       "       Monthly_Mean_Total_Sunspot_Number\n",
       "count                        3265.000000\n",
       "mean                           81.778775\n",
       "std                            67.889277\n",
       "min                             0.000000\n",
       "25%                            23.900000\n",
       "50%                            67.200000\n",
       "75%                           122.500000\n",
       "max                           398.200000"
      ]
     },
     "execution_count": 7,
     "metadata": {},
     "output_type": "execute_result"
    }
   ],
   "source": [
    "data=data[['Date','Monthly_Mean_Total_Sunspot_Number']]\n",
    "data.describe()"
   ]
  },
  {
   "cell_type": "code",
   "execution_count": 8,
   "id": "3f43b10f",
   "metadata": {},
   "outputs": [
    {
     "data": {
      "text/plain": [
       "0.009494640122511486"
      ]
     },
     "execution_count": 8,
     "metadata": {},
     "output_type": "execute_result"
    }
   ],
   "source": [
    "iqr=122.500000 - 23.900000\n",
    "outlier=data[data['Monthly_Mean_Total_Sunspot_Number'] > (122.500000+(iqr*1.5))]\n",
    "\n",
    "len(outlier)/len(data)"
   ]
  },
  {
   "cell_type": "markdown",
   "id": "b99d6689",
   "metadata": {},
   "source": [
    "#### Outliers = 0.949 %"
   ]
  },
  {
   "cell_type": "code",
   "execution_count": null,
   "id": "9c8ff25d",
   "metadata": {},
   "outputs": [],
   "source": []
  },
  {
   "cell_type": "markdown",
   "id": "7dfaf16c",
   "metadata": {},
   "source": [
    "## QUESTION 2"
   ]
  },
  {
   "cell_type": "code",
   "execution_count": 2,
   "id": "3ccc1502",
   "metadata": {},
   "outputs": [
    {
     "name": "stdout",
     "output_type": "stream",
     "text": [
      "<Table length=3340>\r\n",
      "          name           dtype     class     n_bad\r\n",
      "----------------------- ------- ------------ -----\r\n",
      "                   col0   int32 MaskedColumn  3340\r\n",
      "                   name   str12       Column     0\r\n",
      "                     ra   str10       Column     0\r\n",
      "                    dec    str9       Column     0\r\n",
      "           trigger_time   str23       Column     0\r\n",
      "                    t90 float64 MaskedColumn     1\r\n",
      "              t90_error float64 MaskedColumn     1\r\n",
      "              t90_start float64 MaskedColumn     1\r\n",
      "                fluence float64 MaskedColumn     1\r\n",
      "          fluence_error float64 MaskedColumn     1\r\n",
      "         flnc_band_ampl float64 MaskedColumn  1032\r\n",
      " flnc_band_ampl_pos_err float64 MaskedColumn  1032\r\n",
      " flnc_band_ampl_neg_err float64 MaskedColumn  1032\r\n",
      "        flnc_band_epeak float64 MaskedColumn  1032\r\n",
      "flnc_band_epeak_pos_err float64 MaskedColumn  1032\r\n",
      "flnc_band_epeak_neg_err float64 MaskedColumn  1032\r\n",
      "        flnc_band_alpha float64 MaskedColumn  1032\r\n",
      "flnc_band_alpha_pos_err float64 MaskedColumn  1032\r\n",
      "flnc_band_alpha_neg_err float64 MaskedColumn  1032\r\n",
      "         flnc_band_beta float64 MaskedColumn  1032\r\n",
      " flnc_band_beta_pos_err float64 MaskedColumn  1032\r\n",
      " flnc_band_beta_neg_err float64 MaskedColumn  1032\r\n",
      "                     _1   int32 MaskedColumn  3340\r\n"
     ]
    }
   ],
   "source": [
    "from astropy.table import Table\n",
    "t1 = Table.read('Fermi_GBM_catalog_15_8_22.txt',format='ascii',guess=False, delimiter='|')\n",
    "t1.info()"
   ]
  },
  {
   "cell_type": "code",
   "execution_count": 3,
   "id": "68a6541d",
   "metadata": {},
   "outputs": [],
   "source": [
    "T90=t1['t90']\n",
    "fluence =t1['fluence']"
   ]
  },
  {
   "cell_type": "code",
   "execution_count": 42,
   "id": "44c4242c",
   "metadata": {},
   "outputs": [],
   "source": [
    "# B is the event of T90 < 2 sec\n",
    "B=t1['t90']<2\n",
    "Pb=len(t1[B])/len(t1)\n",
    "\n",
    "#A is the event of fluence being in the order of 10^-4\n",
    "lower_limit = 1e-4 - 1e-5  \n",
    "upper_limit = 1e-4 + 1e-5 \n",
    "\n",
    "A = (t1['fluence'] >= lower_limit) & (t1['fluence'] <= upper_limit)\n",
    "\n",
    "Pa=len(t1[A])/len(t1)"
   ]
  },
  {
   "cell_type": "code",
   "execution_count": 38,
   "id": "f34e4dd3",
   "metadata": {},
   "outputs": [],
   "source": [
    "anb=t1[A & B]"
   ]
  },
  {
   "cell_type": "code",
   "execution_count": 39,
   "id": "7027eb5f",
   "metadata": {},
   "outputs": [
    {
     "data": {
      "text/plain": [
       "0.005389221556886228"
      ]
     },
     "execution_count": 39,
     "metadata": {},
     "output_type": "execute_result"
    }
   ],
   "source": [
    "panb/Pb #P(A|B)"
   ]
  },
  {
   "cell_type": "markdown",
   "id": "24e021f2",
   "metadata": {},
   "source": [
    "### Probability that if we identify a GRB as short (T90 < 2 seconds), it has a fluence of the order of 10^{−4 } 𝑒𝑟𝑔/𝑐𝑚^2 is : 0.005389221556886228"
   ]
  },
  {
   "cell_type": "code",
   "execution_count": null,
   "id": "5d7aa6e2",
   "metadata": {},
   "outputs": [],
   "source": []
  },
  {
   "cell_type": "markdown",
   "id": "1d792180",
   "metadata": {},
   "source": [
    "## QUESTION 5"
   ]
  },
  {
   "cell_type": "code",
   "execution_count": 71,
   "id": "e31ff56c",
   "metadata": {},
   "outputs": [],
   "source": [
    "def q5(x):\n",
    "    n=len(x)\n",
    "    s=0\n",
    "    for i in x:\n",
    "        s=s+i\n",
    "    m=s/n\n",
    "    #m=np.mean(x)\n",
    "    \n",
    "    v=np.mean(x**2)-(np.mean(x))**2\n",
    "    #v=np.var(x)\n",
    "    \n",
    "    #skewness\n",
    "    sd=v**0.5\n",
    "    sk=(np.sum((x-m)**3))/(n*(sd**3))\n",
    "    \n",
    "    #kurtosis\n",
    "    k=(np.sum((x-m)**4)/(n*(sd**4)))-3\n",
    "    \n",
    "    print(\"Mean: \",m)\n",
    "    print(\"Variance: \",v)\n",
    "    print(\"Skewness: \",sk)\n",
    "    print(\"Kurtosis: \",k)\n",
    "        "
   ]
  },
  {
   "cell_type": "code",
   "execution_count": 48,
   "id": "1398f40a",
   "metadata": {},
   "outputs": [
    {
     "data": {
      "text/plain": [
       "array([0.14197204, 0.37927682, 0.80388963, 0.63233576, 0.8783059 ,\n",
       "       0.05964419, 0.94963564, 0.40357291, 0.78258505, 0.01958658])"
      ]
     },
     "execution_count": 48,
     "metadata": {},
     "output_type": "execute_result"
    }
   ],
   "source": [
    "x=np.random.uniform(size=10)\n",
    "x"
   ]
  },
  {
   "cell_type": "code",
   "execution_count": 72,
   "id": "f395d3da",
   "metadata": {},
   "outputs": [
    {
     "name": "stdout",
     "output_type": "stream",
     "text": [
      "Mean:  0.5050804525554102\n",
      "Variance:  0.11115120073049772\n",
      "Skewness:  -0.1720812516910004\n",
      "Kurtosis:  -1.500227717929946\n"
     ]
    }
   ],
   "source": [
    "q5(x)"
   ]
  },
  {
   "cell_type": "code",
   "execution_count": 73,
   "id": "ba0419f4",
   "metadata": {},
   "outputs": [],
   "source": [
    "import scipy.stats as stats"
   ]
  },
  {
   "cell_type": "code",
   "execution_count": 78,
   "id": "5627dcd9",
   "metadata": {},
   "outputs": [
    {
     "name": "stdout",
     "output_type": "stream",
     "text": [
      "Mean:  0.5050804525554102\n",
      "Variance:  0.1111512007304977\n",
      "Skewness:  -0.17208125169100041\n",
      "Kurtosis:  -1.5002277179299452\n"
     ]
    }
   ],
   "source": [
    "print(\"Mean: \",np.mean(x))\n",
    "print(\"Variance: \",np.var(x))\n",
    "print(\"Skewness: \",stats.skew(x))\n",
    "print(\"Kurtosis: \",stats.kurtosis(x))"
   ]
  },
  {
   "cell_type": "code",
   "execution_count": null,
   "id": "d6d513a1",
   "metadata": {},
   "outputs": [],
   "source": []
  },
  {
   "cell_type": "markdown",
   "id": "6dd177bc",
   "metadata": {},
   "source": [
    "## QUESTION 3"
   ]
  },
  {
   "cell_type": "code",
   "execution_count": 46,
   "id": "4d2c32c7",
   "metadata": {},
   "outputs": [],
   "source": [
    "import numpy as np\n",
    "import random"
   ]
  },
  {
   "cell_type": "code",
   "execution_count": 47,
   "id": "b34be4bb",
   "metadata": {},
   "outputs": [],
   "source": [
    "def f1(x,a,b):\n",
    "    if x<a or x>b:\n",
    "        return 0\n",
    "    else:\n",
    "        return 1/(b-a)"
   ]
  },
  {
   "cell_type": "code",
   "execution_count": 48,
   "id": "c2e46fa6",
   "metadata": {},
   "outputs": [],
   "source": [
    "def expec(f,a,b,p):\n",
    "    n=1000\n",
    "    dx= (b-a)/n\n",
    "    e=0\n",
    "    for i in range(n):\n",
    "        x=a+(i*dx)\n",
    "        e=e+(f(x,a,b)*(x**p)*dx)\n",
    "    return e"
   ]
  },
  {
   "cell_type": "code",
   "execution_count": 49,
   "id": "15213e53",
   "metadata": {},
   "outputs": [
    {
     "data": {
      "text/plain": [
       "2.4995"
      ]
     },
     "execution_count": 49,
     "metadata": {},
     "output_type": "execute_result"
    }
   ],
   "source": [
    "a=2\n",
    "b=3\n",
    "\n",
    "expec(f1,a,b,1)"
   ]
  },
  {
   "cell_type": "code",
   "execution_count": 50,
   "id": "c37f10a8",
   "metadata": {},
   "outputs": [
    {
     "data": {
      "text/plain": [
       "2.5"
      ]
     },
     "execution_count": 50,
     "metadata": {},
     "output_type": "execute_result"
    }
   ],
   "source": [
    "(3+2)/2"
   ]
  },
  {
   "cell_type": "code",
   "execution_count": 51,
   "id": "ef64c66e",
   "metadata": {},
   "outputs": [],
   "source": [
    "def var(f,a,b):\n",
    "    n=1000\n",
    "    v=expec(f,a,b,2)-(expec(f,a,b,1))**2\n",
    "    return v"
   ]
  },
  {
   "cell_type": "code",
   "execution_count": 52,
   "id": "e29c330b",
   "metadata": {},
   "outputs": [
    {
     "data": {
      "text/plain": [
       "0.08333324999999636"
      ]
     },
     "execution_count": 52,
     "metadata": {},
     "output_type": "execute_result"
    }
   ],
   "source": [
    "var(f1,a,b)"
   ]
  },
  {
   "cell_type": "code",
   "execution_count": 53,
   "id": "ee176b88",
   "metadata": {},
   "outputs": [
    {
     "data": {
      "text/plain": [
       "0.08333333333333333"
      ]
     },
     "execution_count": 53,
     "metadata": {},
     "output_type": "execute_result"
    }
   ],
   "source": [
    "(b-a)/(12)"
   ]
  },
  {
   "cell_type": "markdown",
   "id": "3e140b12",
   "metadata": {},
   "source": [
    "### 1,2,3 sigma zones of the given functions:"
   ]
  },
  {
   "cell_type": "markdown",
   "id": "05c4bee4",
   "metadata": {},
   "source": [
    "#### Uniform function"
   ]
  },
  {
   "cell_type": "code",
   "execution_count": 127,
   "id": "5ff99008",
   "metadata": {},
   "outputs": [],
   "source": [
    "mu=expec(f1,a,b,1)\n",
    "sd=(var(f1,a,b))**0.5"
   ]
  },
  {
   "cell_type": "code",
   "execution_count": 128,
   "id": "5597eec8",
   "metadata": {},
   "outputs": [],
   "source": [
    "X=np.random.uniform(a,b,1000)"
   ]
  },
  {
   "cell_type": "code",
   "execution_count": 129,
   "id": "69ef2829",
   "metadata": {},
   "outputs": [
    {
     "data": {
      "text/plain": [
       "[0.55, 1.0, 1.0]"
      ]
     },
     "execution_count": 129,
     "metadata": {},
     "output_type": "execute_result"
    }
   ],
   "source": [
    "N = [1, 2, 3]\n",
    "l = []\n",
    "\n",
    "for n in N:\n",
    "    lb = mu - (n * sd)\n",
    "    ub = mu + (n * sd)\n",
    "     \n",
    "    sz = X[(X>=lb)&(X<=ub)]\n",
    "    p=len(sz)/len(X)\n",
    "    \n",
    "    l.append(p)\n",
    "l"
   ]
  },
  {
   "cell_type": "markdown",
   "id": "c3bf78f4",
   "metadata": {},
   "source": [
    "#### Normal Function"
   ]
  },
  {
   "cell_type": "code",
   "execution_count": 156,
   "id": "5e958e25",
   "metadata": {},
   "outputs": [],
   "source": [
    "def f2(x,sd):\n",
    "    fx=(np.exp(-x**2/(2*sd**2)))/(sd*np.sqrt(2*np.pi))\n",
    "    return fx"
   ]
  },
  {
   "cell_type": "code",
   "execution_count": 157,
   "id": "7fc414f5",
   "metadata": {},
   "outputs": [],
   "source": [
    "X_n=np.array([f2(x,1) for x in np.random.rand(10000)])"
   ]
  },
  {
   "cell_type": "code",
   "execution_count": 158,
   "id": "d350f294",
   "metadata": {},
   "outputs": [],
   "source": [
    "mu_n=np.mean(X_n)\n",
    "sd_n=np.std(X_n)"
   ]
  },
  {
   "cell_type": "code",
   "execution_count": 159,
   "id": "8f46cfa0",
   "metadata": {},
   "outputs": [
    {
     "data": {
      "text/plain": [
       "[0.5709, 0.9844, 1.0]"
      ]
     },
     "execution_count": 159,
     "metadata": {},
     "output_type": "execute_result"
    }
   ],
   "source": [
    "N = [1, 2, 3]\n",
    "l_n = []\n",
    "\n",
    "for n in N:\n",
    "    lb = mu_n - (n * sd_n)\n",
    "    ub = mu_n + (n * sd_n)\n",
    "     \n",
    "    sz_n = X_n[(X_n>=lb)&(X_n<=ub)]\n",
    "    p_n=len(sz_n)/len(X_n)\n",
    "    \n",
    "    l_n.append(p_n)\n",
    "l_n"
   ]
  },
  {
   "cell_type": "markdown",
   "id": "2002eab2",
   "metadata": {},
   "source": [
    "#### Function 3"
   ]
  },
  {
   "cell_type": "code",
   "execution_count": 144,
   "id": "e0e04ccd",
   "metadata": {},
   "outputs": [],
   "source": [
    "def f3(x0, x, p):\n",
    "    f= (p/2)/(np.pi*((x-x0)**2+(p/2)**2))\n",
    "    return(f)"
   ]
  },
  {
   "cell_type": "code",
   "execution_count": 145,
   "id": "d527cb8d",
   "metadata": {},
   "outputs": [],
   "source": [
    "X_3=np.array([f3(0,x,1) for x in np.linspace(-100,100,1000000)])"
   ]
  },
  {
   "cell_type": "code",
   "execution_count": 146,
   "id": "c357b007",
   "metadata": {},
   "outputs": [],
   "source": [
    "mu_3=np.mean(X_3)\n",
    "sd_3=np.std(X_3)"
   ]
  },
  {
   "cell_type": "code",
   "execution_count": 147,
   "id": "fc7885fa",
   "metadata": {},
   "outputs": [
    {
     "data": {
      "text/plain": [
       "[0.981776, 0.987188, 0.98982]"
      ]
     },
     "execution_count": 147,
     "metadata": {},
     "output_type": "execute_result"
    }
   ],
   "source": [
    "N = [1, 2, 3]\n",
    "l_3 = []\n",
    "\n",
    "for n in N:\n",
    "    lb = mu_3 - (n * sd_3)\n",
    "    ub = mu_3 + (n * sd_3)\n",
    "     \n",
    "    sz_3 = X_3[(X_3>=lb)&(X_3<=ub)]\n",
    "    p_3=len(sz_3)/len(X_3)\n",
    "    \n",
    "    l_3.append(p_3)\n",
    "l_3"
   ]
  },
  {
   "cell_type": "markdown",
   "id": "0981004c",
   "metadata": {},
   "source": [
    "## QUESTION 6"
   ]
  },
  {
   "cell_type": "markdown",
   "id": "c493de3e",
   "metadata": {},
   "source": [
    "def mom(f,a,b,p):\n",
    "    n=1000\n",
    "    dx= (b-a)/n\n",
    "    m=0\n",
    "    for i in range(n):\n",
    "        x=a+(i*dx)\n",
    "        m=m+(f(x,a,b)*(x**p)*dx)\n",
    "    return m"
   ]
  },
  {
   "cell_type": "code",
   "execution_count": 31,
   "id": "31143d1e",
   "metadata": {},
   "outputs": [],
   "source": [
    "import numpy as np\n",
    "import matplotlib.pyplot as plt\n",
    "from scipy.stats import laplace, uniform"
   ]
  },
  {
   "cell_type": "code",
   "execution_count": 32,
   "id": "05e159ea",
   "metadata": {},
   "outputs": [],
   "source": [
    "def mom(x, p):\n",
    "    if p == 1:\n",
    "        return np.mean(x)\n",
    "    elif p == 2:\n",
    "        return np.mean((x - np.mean(x))**p)\n",
    "    else:\n",
    "        return np.mean(((x - np.mean(x)) / np.std(x))**p)"
   ]
  },
  {
   "cell_type": "code",
   "execution_count": 33,
   "id": "b4065fa2",
   "metadata": {},
   "outputs": [
    {
     "name": "stdout",
     "output_type": "stream",
     "text": [
      "             normal_moment   |   laplace_moment  | uniform_moment\n",
      "Moment- 1 :  -0.0453      |        0.035      |        0.0092\n",
      "Moment- 2 :  0.9742      |        1.0584      |        1.0027\n",
      "Moment- 3 :  0.0339      |        -0.2484      |        0.0251\n",
      "Moment- 4 :  2.9532      |        6.2196      |        1.7879\n"
     ]
    }
   ],
   "source": [
    "np.random.seed(0)\n",
    "sample_size = 1000\n",
    "\n",
    "normal_mean = 0\n",
    "normal_std_dev = 1\n",
    "normal_samples = np.random.normal(normal_mean, normal_std_dev, sample_size)\n",
    "\n",
    "laplace_loc = 0\n",
    "laplace_scale = 1 / np.sqrt(2)\n",
    "laplace_samples = np.random.laplace(laplace_loc, laplace_scale, sample_size)\n",
    "\n",
    "uniform_a = -np.sqrt(3)\n",
    "uniform_b = np.sqrt(3)\n",
    "uniform_samples = np.random.uniform(uniform_a, uniform_b, sample_size)\n",
    "\n",
    "\n",
    "moment_orders = [1, 2, 3, 4]\n",
    "\n",
    "print(\"             normal_moment   |   laplace_moment  | uniform_moment\")\n",
    "for p in moment_orders:\n",
    "    normal_moment = mom(normal_samples, p)\n",
    "    laplace_moment = mom(laplace_samples, p)\n",
    "    uniform_moment = mom(uniform_samples, p)\n",
    "    print(\"Moment-\",p,\": \",round(normal_moment,4),\"     |       \" , round(laplace_moment,4),\"     |       \" , round(uniform_moment,4))\n",
    "\n"
   ]
  },
  {
   "cell_type": "code",
   "execution_count": 44,
   "id": "059f90e8",
   "metadata": {},
   "outputs": [
    {
     "data": {
      "image/png": "[encoded data removed]",
      "text/plain": [
       "<Figure size 1000x600 with 1 Axes>"
      ]
     },
     "metadata": {},
     "output_type": "display_data"
    }
   ],
   "source": [
    "plt.figure(figsize=(10, 6))\n",
    "plt.hist(normal_samples,bins=100,density=True, label='Normal Distribution')\n",
    "plt.hist(uniform_samples,bins=100,density=True,label='Uniform Distribution')\n",
    "plt.hist(laplace_samples,bins=100, density=True,label='Laplace Distribution')\n",
    "plt.title('PDF  plot')\n",
    "plt.xlabel('x')\n",
    "plt.ylabel('PDF')\n",
    "plt.legend()\n",
    "\n",
    "plt.show()"
   ]
  },
  {
   "cell_type": "markdown",
   "id": "83f3deb4",
   "metadata": {},
   "source": [
    "##### Laplacian distribution is more tailed "
   ]
  },
  {
   "cell_type": "code",
   "execution_count": null,
   "id": "0a00cb85",
   "metadata": {},
   "outputs": [],
   "source": []
  },
  {
   "cell_type": "code",
   "execution_count": null,
   "id": "ffd85d71",
   "metadata": {},
   "outputs": [],
   "source": []
  }
 ],
 "metadata": {
  "kernelspec": {
   "display_name": "Python 3 (ipykernel)",
   "language": "python",
   "name": "python3"
  },
  "language_info": {
   "codemirror_mode": {
    "name": "ipython",
    "version": 3
   },
   "file_extension": ".py",
   "mimetype": "text/x-python",
   "name": "python",
   "nbconvert_exporter": "python",
   "pygments_lexer": "ipython3",
   "version": "3.11.3"
  }
 },
 "nbformat": 4,
 "nbformat_minor": 5
}
